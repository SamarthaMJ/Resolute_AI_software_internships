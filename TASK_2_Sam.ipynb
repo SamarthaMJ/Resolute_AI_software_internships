{
  "cells": [
    {
      "cell_type": "code",
      "execution_count": null,
      "id": "557d4337",
      "metadata": {
        "id": "557d4337",
        "outputId": "21a88eb5-5c4d-47b0-cf22-1c3e2632a409"
      },
      "outputs": [
        {
          "data": {
            "text/plain": [
              "float"
            ]
          },
          "execution_count": 1,
          "metadata": {},
          "output_type": "execute_result"
        }
      ],
      "source": [
        "num = 10.3\n",
        "type(num)"
      ]
    },
    {
      "cell_type": "code",
      "execution_count": null,
      "id": "547dddc3",
      "metadata": {
        "id": "547dddc3",
        "outputId": "69287345-c1f1-4e67-8fac-f088455cf724"
      },
      "outputs": [
        {
          "data": {
            "text/plain": [
              "complex"
            ]
          },
          "execution_count": 2,
          "metadata": {},
          "output_type": "execute_result"
        }
      ],
      "source": [
        "num = 10+7j\n",
        "type(num)"
      ]
    },
    {
      "cell_type": "code",
      "execution_count": null,
      "id": "e88c067f",
      "metadata": {
        "id": "e88c067f",
        "outputId": "fae4788e-2218-43d2-84cf-7242aa800e72"
      },
      "outputs": [
        {
          "data": {
            "text/plain": [
              "float"
            ]
          },
          "execution_count": 3,
          "metadata": {},
          "output_type": "execute_result"
        }
      ],
      "source": [
        "a = 2.6\n",
        "b = int(a)\n",
        "type(a)"
      ]
    },
    {
      "cell_type": "code",
      "execution_count": null,
      "id": "f793b99d",
      "metadata": {
        "id": "f793b99d",
        "outputId": "bc0434d0-153f-4a59-de3c-057f24d8c703"
      },
      "outputs": [
        {
          "data": {
            "text/plain": [
              "float"
            ]
          },
          "execution_count": 4,
          "metadata": {},
          "output_type": "execute_result"
        }
      ],
      "source": [
        "g = float(b)\n",
        "type(g)"
      ]
    },
    {
      "cell_type": "code",
      "execution_count": null,
      "id": "60729a6c",
      "metadata": {
        "id": "60729a6c",
        "outputId": "7537d40d-5180-4109-9041-1b76d174a1ed"
      },
      "outputs": [
        {
          "data": {
            "text/plain": [
              "bool"
            ]
          },
          "execution_count": 6,
          "metadata": {},
          "output_type": "execute_result"
        }
      ],
      "source": [
        "a = True\n",
        "type(a)"
      ]
    },
    {
      "cell_type": "code",
      "execution_count": null,
      "id": "384d2258",
      "metadata": {
        "id": "384d2258",
        "outputId": "939c87c5-666e-4dc6-d2cb-5bc531d57617"
      },
      "outputs": [
        {
          "data": {
            "text/plain": [
              "complex"
            ]
          },
          "execution_count": 7,
          "metadata": {},
          "output_type": "execute_result"
        }
      ],
      "source": [
        "c = complex(3,1)\n",
        "type(c)"
      ]
    },
    {
      "cell_type": "code",
      "execution_count": null,
      "id": "05a8100a",
      "metadata": {
        "id": "05a8100a",
        "outputId": "78528609-201d-4359-c3dd-3dcf2ddb4047"
      },
      "outputs": [
        {
          "data": {
            "text/plain": [
              "bool"
            ]
          },
          "execution_count": 8,
          "metadata": {},
          "output_type": "execute_result"
        }
      ],
      "source": [
        "bool = 3>1\n",
        "True\n",
        "type(bool)"
      ]
    },
    {
      "cell_type": "code",
      "execution_count": null,
      "id": "7dc2652c",
      "metadata": {
        "id": "7dc2652c",
        "outputId": "8b6d016c-0b6f-40d0-8d38-2341ef5ee921"
      },
      "outputs": [
        {
          "data": {
            "text/plain": [
              "list"
            ]
          },
          "execution_count": 10,
          "metadata": {},
          "output_type": "execute_result"
        }
      ],
      "source": [
        "list = [1,2,3,4,5]\n",
        "type(list)"
      ]
    },
    {
      "cell_type": "code",
      "execution_count": null,
      "id": "07caa982",
      "metadata": {
        "id": "07caa982",
        "outputId": "1f779f3e-d2a0-4e1e-b98b-d7b5675dffef"
      },
      "outputs": [
        {
          "data": {
            "text/plain": [
              "tuple"
            ]
          },
          "execution_count": 11,
          "metadata": {},
          "output_type": "execute_result"
        }
      ],
      "source": [
        "p = (1,2,3,4)\n",
        "type(p)"
      ]
    },
    {
      "cell_type": "code",
      "execution_count": null,
      "id": "ea4452ad",
      "metadata": {
        "id": "ea4452ad",
        "outputId": "befe6920-5f23-4d4f-9f7e-62012fb784e6"
      },
      "outputs": [
        {
          "data": {
            "text/plain": [
              "set"
            ]
          },
          "execution_count": 12,
          "metadata": {},
          "output_type": "execute_result"
        }
      ],
      "source": [
        "d = {1,2,3,4,5,3}\n",
        "type(d)"
      ]
    },
    {
      "cell_type": "code",
      "execution_count": null,
      "id": "a957f920",
      "metadata": {
        "id": "a957f920",
        "outputId": "5909e68c-0b82-458a-dcaf-97386884309c"
      },
      "outputs": [
        {
          "data": {
            "text/plain": [
              "str"
            ]
          },
          "execution_count": 13,
          "metadata": {},
          "output_type": "execute_result"
        }
      ],
      "source": [
        "str = \"String\"\n",
        "type(str)"
      ]
    },
    {
      "cell_type": "code",
      "execution_count": null,
      "id": "28b34f51",
      "metadata": {
        "scrolled": true,
        "id": "28b34f51",
        "outputId": "3ea5293b-bd69-4b3c-9312-79f48f65a730"
      },
      "outputs": [
        {
          "data": {
            "text/plain": [
              "str"
            ]
          },
          "execution_count": 14,
          "metadata": {},
          "output_type": "execute_result"
        }
      ],
      "source": [
        "str = \"a\"\n",
        "type(str)"
      ]
    },
    {
      "cell_type": "code",
      "execution_count": null,
      "id": "bb0313d9",
      "metadata": {
        "id": "bb0313d9",
        "outputId": "8ea36b3a-2c87-4221-91b2-4e7b56c29482"
      },
      "outputs": [
        {
          "data": {
            "text/plain": [
              "list[range(0, 10)]"
            ]
          },
          "execution_count": 8,
          "metadata": {},
          "output_type": "execute_result"
        }
      ],
      "source": [
        "list[range(10)]"
      ]
    },
    {
      "cell_type": "code",
      "execution_count": null,
      "id": "4e0e7258",
      "metadata": {
        "id": "4e0e7258",
        "outputId": "51fdd764-0231-4fe9-980c-c8fec644e09e"
      },
      "outputs": [
        {
          "data": {
            "text/plain": [
              "(2, 4, 6, 8)"
            ]
          },
          "execution_count": 21,
          "metadata": {},
          "output_type": "execute_result"
        }
      ],
      "source": [
        "tuple(range(2,10,2))"
      ]
    },
    {
      "cell_type": "code",
      "execution_count": null,
      "id": "40941c66",
      "metadata": {
        "id": "40941c66",
        "outputId": "1eec4fe6-7084-450a-ad1a-cd7c362dc4ea"
      },
      "outputs": [
        {
          "data": {
            "text/plain": [
              "dict"
            ]
          },
          "execution_count": 23,
          "metadata": {},
          "output_type": "execute_result"
        }
      ],
      "source": [
        "d = {1:'a', 2:'b', 3:'c'}\n",
        "type(d)"
      ]
    },
    {
      "cell_type": "code",
      "execution_count": 2,
      "id": "4a05e4f0",
      "metadata": {
        "colab": {
          "base_uri": "https://localhost:8080/",
          "height": 36
        },
        "id": "4a05e4f0",
        "outputId": "6f63c26a-d74b-44d6-9623-12800e3bab93"
      },
      "outputs": [
        {
          "output_type": "execute_result",
          "data": {
            "text/plain": [
              "'redmi'"
            ],
            "application/vnd.google.colaboratory.intrinsic+json": {
              "type": "string"
            }
          },
          "metadata": {},
          "execution_count": 2
        }
      ],
      "source": [
        "d = {'Sam':'Samsung','Nokia':'redmi','Huawei':'iphone'}\n",
        "d.values()\n",
        "d.keys()\n",
        "d.get('Sam')\n",
        "d['Nokia']"
      ]
    },
    {
      "cell_type": "code",
      "execution_count": null,
      "id": "3ffcdb85",
      "metadata": {
        "id": "3ffcdb85",
        "outputId": "5f760e94-ac36-4665-e8f8-1768b051a3ca"
      },
      "outputs": [
        {
          "name": "stdout",
          "output_type": "stream",
          "text": [
            "7\n",
            "1.3333333333333333\n",
            "-2\n"
          ]
        }
      ],
      "source": [
        "x = 2\n",
        "y = 3\n",
        "x+=2\n",
        "b = 2\n",
        "b = -b\n",
        "print(x+y)\n",
        "print(x/y)\n",
        "print(b)"
      ]
    },
    {
      "cell_type": "code",
      "execution_count": null,
      "id": "123b7eff",
      "metadata": {
        "id": "123b7eff",
        "outputId": "00d83702-b4e7-4ac2-8061-2ae97c0bd6fa"
      },
      "outputs": [
        {
          "data": {
            "text/plain": [
              "False"
            ]
          },
          "execution_count": 26,
          "metadata": {},
          "output_type": "execute_result"
        }
      ],
      "source": [
        "a = 3\n",
        "b = 3\n",
        "a < b\n",
        "a == b\n",
        "a <= b\n",
        "a >= b\n",
        "a != b"
      ]
    },
    {
      "cell_type": "code",
      "execution_count": null,
      "id": "930c9f58",
      "metadata": {
        "id": "930c9f58",
        "outputId": "381fe43c-7188-43d8-fcdb-c8503e014652"
      },
      "outputs": [
        {
          "data": {
            "text/plain": [
              "False"
            ]
          },
          "execution_count": 27,
          "metadata": {},
          "output_type": "execute_result"
        }
      ],
      "source": [
        "a = 2\n",
        "b = 3\n",
        "a < 3 and b < a\n",
        "a <3 or b < 3\n",
        "x = True\n",
        "not x"
      ]
    },
    {
      "cell_type": "code",
      "execution_count": null,
      "id": "95e559eb",
      "metadata": {
        "id": "95e559eb",
        "outputId": "3acc74e0-ea93-4355-80e0-daabee3f0366"
      },
      "outputs": [
        {
          "data": {
            "text/plain": [
              "'0b1000001'"
            ]
          },
          "execution_count": 28,
          "metadata": {},
          "output_type": "execute_result"
        }
      ],
      "source": [
        "bin(25)\n",
        "0b11001\n",
        "oct(25)\n",
        "hex(10)\n",
        "0xf\n",
        "bin(65)"
      ]
    },
    {
      "cell_type": "code",
      "execution_count": null,
      "id": "05b2158c",
      "metadata": {
        "id": "05b2158c",
        "outputId": "42c4efd8-918c-43ff-d1a3-557705877ff3"
      },
      "outputs": [
        {
          "data": {
            "text/plain": [
              "2"
            ]
          },
          "execution_count": 29,
          "metadata": {},
          "output_type": "execute_result"
        }
      ],
      "source": [
        "~12\n",
        "~45\n",
        "~121\n",
        "12 & 13\n",
        "12 | 13\n",
        "12 ^ 13\n",
        "25 ^ 30\n",
        "10 << 2\n",
        "10 >> 2\n"
      ]
    },
    {
      "cell_type": "code",
      "execution_count": null,
      "id": "89797cf1",
      "metadata": {
        "id": "89797cf1",
        "outputId": "81b1f832-69bb-47fb-c2cf-eb67004de8ab"
      },
      "outputs": [
        {
          "name": "stdout",
          "output_type": "stream",
          "text": [
            "enter value of a1\n",
            "enter value of b2\n",
            "sum is: 3\n"
          ]
        }
      ],
      "source": [
        "a = int(input(\"enter value of a\"))\n",
        "b = int(input(\"enter value of b\"))\n",
        "c = a + b\n",
        "print(\"sum is:\", c)"
      ]
    },
    {
      "cell_type": "code",
      "execution_count": 3,
      "id": "6d6523c7",
      "metadata": {
        "colab": {
          "base_uri": "https://localhost:8080/"
        },
        "id": "6d6523c7",
        "outputId": "b1d9981d-cf76-4755-cba9-169f1b014724"
      },
      "outputs": [
        {
          "output_type": "stream",
          "name": "stdout",
          "text": [
            "enter a character MJS\n",
            "M\n"
          ]
        }
      ],
      "source": [
        "ch = input(\"enter a character \")[0]\n",
        "print(ch)"
      ]
    },
    {
      "cell_type": "code",
      "execution_count": null,
      "id": "1549f579",
      "metadata": {
        "id": "1549f579",
        "outputId": "d46489d9-d7ba-4819-c0b0-6ce1d48c0c50"
      },
      "outputs": [
        {
          "name": "stdout",
          "output_type": "stream",
          "text": [
            "enter an expression 5+6-3\n",
            "8\n"
          ]
        }
      ],
      "source": [
        "res = eval(input(\"enter an expression \"))\n",
        "print(res)"
      ]
    },
    {
      "cell_type": "code",
      "execution_count": 4,
      "id": "30cefbfe",
      "metadata": {
        "colab": {
          "base_uri": "https://localhost:8080/"
        },
        "id": "30cefbfe",
        "outputId": "1cca29d5-adf4-49bb-d77e-c3058b594ee5"
      },
      "outputs": [
        {
          "output_type": "execute_result",
          "data": {
            "text/plain": [
              "[1, 2, 4, 5, 21]"
            ]
          },
          "metadata": {},
          "execution_count": 4
        }
      ],
      "source": [
        "nums=[1,2,3,4,5]\n",
        "nums[0]\n",
        "nums[1:]\n",
        "nums[-5]\n",
        "names=['Sam','Sakib','abhi']\n",
        "names\n",
        "values=[2.3,'Sam',21]\n",
        "values\n",
        "dha=[nums,names]\n",
        "dha\n",
        "nums.insert(3,22)\n",
        "nums\n",
        "nums.remove(22)\n",
        "nums\n",
        "nums.pop(1)\n",
        "nums\n",
        "del nums[1:]\n",
        "nums\n",
        "nums.extend([21,2,4,5])\n",
        "nums\n",
        "min(nums)\n",
        "max(nums)\n",
        "sum(nums)\n",
        "nums.sort()\n",
        "nums"
      ]
    },
    {
      "cell_type": "code",
      "execution_count": null,
      "id": "878a52b6",
      "metadata": {
        "id": "878a52b6",
        "outputId": "7538b854-3f4d-463c-fe45-9b7c9fd12b32"
      },
      "outputs": [
        {
          "data": {
            "text/plain": [
              "[25, 36, 26]"
            ]
          },
          "execution_count": 2,
          "metadata": {},
          "output_type": "execute_result"
        }
      ],
      "source": [
        "tup=(1,2,3,4,5)\n",
        "tup\n",
        "d={22,1,2,4,5}\n",
        "d\n",
        "nums=[25,36,95,14,12,26]\n",
        "del nums[2:5]\n",
        "nums"
      ]
    },
    {
      "cell_type": "code",
      "execution_count": 5,
      "id": "e1296a9d",
      "metadata": {
        "colab": {
          "base_uri": "https://localhost:8080/"
        },
        "id": "e1296a9d",
        "outputId": "52ec35c4-7c91-4ecd-f565-9a82f3d125f5"
      },
      "outputs": [
        {
          "output_type": "stream",
          "name": "stdout",
          "text": [
            "None\n"
          ]
        },
        {
          "output_type": "execute_result",
          "data": {
            "text/plain": [
              "{'Sam': 'pyhton', 'rahul': 'java', 'abhi': 'c', 'punu': 'cs'}"
            ]
          },
          "metadata": {},
          "execution_count": 5
        }
      ],
      "source": [
        "data={1:'Sam',2:'rahul',5:'abhi'}\n",
        "data\n",
        "data[1]\n",
        "data.get(2)\n",
        "data.get(4)\n",
        "print(data.get(4))\n",
        "data.get(3,'not found')\n",
        "keys=['Sam','rahul','abhi']\n",
        "values=['pyhton','java','c']\n",
        "data=dict(zip(keys,values))\n",
        "data\n",
        "data['punu']='cs'\n",
        "data"
      ]
    },
    {
      "cell_type": "code",
      "execution_count": null,
      "id": "298d4b8d",
      "metadata": {
        "id": "298d4b8d",
        "outputId": "8a2af623-9b1c-4203-da9e-657fa0d71e3a"
      },
      "outputs": [
        {
          "data": {
            "text/plain": [
              "'eclipse'"
            ]
          },
          "execution_count": 4,
          "metadata": {},
          "output_type": "execute_result"
        }
      ],
      "source": [
        "prog={'js':'atom','cs':'vs','python':['pycharm','subline'],'java':{'jse':'netbeans','jee':'eclipse'}}\n",
        "prog\n",
        "prog['js']\n",
        "prog['python'][1]\n",
        "prog['java']['jee']"
      ]
    },
    {
      "cell_type": "code",
      "execution_count": null,
      "id": "a90ad90f",
      "metadata": {
        "id": "a90ad90f",
        "outputId": "53d6fe0c-5c92-4277-8c34-eeb3ec1ed7c0"
      },
      "outputs": [
        {
          "name": "stdout",
          "output_type": "stream",
          "text": [
            "odd\n",
            "byte\n"
          ]
        }
      ],
      "source": [
        "x=5\n",
        "y=x%2\n",
        "\n",
        "if y==0:\n",
        "    print(\"even\")\n",
        "    \n",
        "else:\n",
        "    print(\"odd\")\n",
        "print(\"byte\")"
      ]
    },
    {
      "cell_type": "code",
      "execution_count": null,
      "id": "714aa793",
      "metadata": {
        "id": "714aa793",
        "outputId": "3ad09ef5-72cd-424f-cdaa-d46e4ef4727a"
      },
      "outputs": [
        {
          "name": "stdout",
          "output_type": "stream",
          "text": [
            "long input\n"
          ]
        }
      ],
      "source": [
        "x=5\n",
        "if x==1:\n",
        "    print(\"one\")\n",
        "elif x==2:\n",
        "    print(\"two\")\n",
        "elif x==3:\n",
        "    print(\"three\")\n",
        "elif x==4:\n",
        "    print(\"four\")\n",
        "else :\n",
        "    print(\"long input\")"
      ]
    },
    {
      "cell_type": "code",
      "execution_count": 6,
      "id": "d76c1450",
      "metadata": {
        "colab": {
          "base_uri": "https://localhost:8080/"
        },
        "id": "d76c1450",
        "outputId": "e5561faf-c493-4306-c782-6c83e257ec12"
      },
      "outputs": [
        {
          "output_type": "stream",
          "name": "stdout",
          "text": [
            "Sam Learns Learns Learns Learns \n",
            "Sam Learns Learns Learns Learns \n",
            "Sam Learns Learns Learns Learns \n",
            "Sam Learns Learns Learns Learns \n",
            "Sam Learns Learns Learns Learns \n"
          ]
        }
      ],
      "source": [
        "i=1\n",
        "while i<=5:\n",
        "    print(\"Sam \",end=\"\")\n",
        "    j=1\n",
        "    while j<=4:\n",
        "        print(\"Learns \",end=\"\")\n",
        "        j=j+1\n",
        "        \n",
        "    i=i+1\n",
        "    print()"
      ]
    },
    {
      "cell_type": "code",
      "execution_count": 7,
      "id": "96cc0b9f",
      "metadata": {
        "colab": {
          "base_uri": "https://localhost:8080/"
        },
        "id": "96cc0b9f",
        "outputId": "e1374752-bb50-4cad-cdb4-5a7e6e5e93e0"
      },
      "outputs": [
        {
          "output_type": "stream",
          "name": "stdout",
          "text": [
            "Sam\n",
            "2.3\n",
            "1\n"
          ]
        }
      ],
      "source": [
        "x=['Sam',2.3,1]\n",
        "for i in x:\n",
        "    print(i)"
      ]
    },
    {
      "cell_type": "code",
      "execution_count": null,
      "id": "0d220bbd",
      "metadata": {
        "id": "0d220bbd",
        "outputId": "ba72f083-b140-4a76-b9ff-9a930b692a7f"
      },
      "outputs": [
        {
          "name": "stdout",
          "output_type": "stream",
          "text": [
            "2\n",
            "4\n",
            "6\n",
            "8\n",
            "bye\n"
          ]
        }
      ],
      "source": [
        "for i in range(1,10):\n",
        "    if(i%2!=0):\n",
        "        pass\n",
        "    else:\n",
        "        print(i)\n",
        "print(\"bye\")"
      ]
    },
    {
      "cell_type": "code",
      "execution_count": null,
      "id": "5ca23a5e",
      "metadata": {
        "id": "5ca23a5e",
        "outputId": "650368d1-0b8d-4755-9502-5dd7ccbb7dd2"
      },
      "outputs": [
        {
          "name": "stdout",
          "output_type": "stream",
          "text": [
            "1\n",
            "8\n",
            "27\n",
            "64\n",
            "125\n"
          ]
        }
      ],
      "source": [
        "from array import *\n",
        "val=array('i',[1,2,3,4,5])\n",
        "newArr=array(val.typecode,(a*a*a for a in val))\n",
        "for e in newArr:\n",
        "     print(e)"
      ]
    },
    {
      "cell_type": "code",
      "execution_count": null,
      "id": "289b5097",
      "metadata": {
        "id": "289b5097",
        "outputId": "ee29cca4-ad98-4c1d-bae8-18a5984c5886"
      },
      "outputs": [
        {
          "name": "stdout",
          "output_type": "stream",
          "text": [
            "enter length of array3\n",
            "enter next values1\n",
            "enter next values2\n",
            "enter next values3\n",
            "array('i', [1, 2, 3])\n",
            "enter the value to search2\n",
            "1\n"
          ]
        }
      ],
      "source": [
        "from array import * \n",
        "arr=array('i',[])\n",
        "n=int(input('enter length of array'))\n",
        "for i in range(n):\n",
        "    x=int(input(\"enter next values\"))\n",
        "    arr.append(x)\n",
        "print(arr)\n",
        "val=int(input(\"enter the value to search\"))\n",
        "k=0\n",
        "for e in arr:\n",
        "    if e==val:\n",
        "        print(k)\n",
        "        break\n",
        "    k+=1"
      ]
    },
    {
      "cell_type": "code",
      "execution_count": null,
      "id": "eb38f324",
      "metadata": {
        "id": "eb38f324",
        "outputId": "db18f2a8-9523-4aa3-8fdb-8a7583b55c2c"
      },
      "outputs": [
        {
          "name": "stdout",
          "output_type": "stream",
          "text": [
            "[1 2 3 4 5]\n"
          ]
        }
      ],
      "source": [
        "from numpy import *\n",
        "arr=array([1,2,3,4,5])\n",
        "print(arr)"
      ]
    },
    {
      "cell_type": "code",
      "execution_count": null,
      "id": "55977dc5",
      "metadata": {
        "id": "55977dc5",
        "outputId": "f01e37ed-40dc-4f53-aa6c-8126e16c98f0"
      },
      "outputs": [
        {
          "name": "stdout",
          "output_type": "stream",
          "text": [
            "[1. 1. 1. 1. 1.]\n"
          ]
        }
      ],
      "source": [
        "from numpy import *\n",
        "arr=linspace(0,15,20)\n",
        "ar=arange(1,15,2)\n",
        "a=logspace(1,40,5)\n",
        "arra=zeros(5)\n",
        "array=ones(5)\n",
        "print(array)"
      ]
    },
    {
      "cell_type": "code",
      "execution_count": null,
      "id": "14b4a202",
      "metadata": {
        "id": "14b4a202",
        "outputId": "95075416-01a0-4b07-e3be-f22a2325587b"
      },
      "outputs": [
        {
          "name": "stdout",
          "output_type": "stream",
          "text": [
            "19\n",
            "[1 3 4 5 6 1 3 4 5 6]\n"
          ]
        }
      ],
      "source": [
        "from numpy import *\n",
        "arr1=array([1,3,4,5,6])\n",
        "arr2=array([1,3,4,5,6])\n",
        "arr3=arr1+arr2\n",
        "print(sum(arr1))\n",
        "print(concatenate([arr1,arr2]))"
      ]
    },
    {
      "cell_type": "code",
      "execution_count": null,
      "id": "f85a1f8f",
      "metadata": {
        "id": "f85a1f8f",
        "outputId": "12de6780-2ac4-4b41-9e0b-59761a7e9236"
      },
      "outputs": [
        {
          "name": "stdout",
          "output_type": "stream",
          "text": [
            "2400657725968\n",
            "2400657726448\n"
          ]
        }
      ],
      "source": [
        "from numpy import *\n",
        "arr1=array([1,2,3,4,5])\n",
        "arr2=arr1.view()\n",
        "print(id(arr1))\n",
        "print(id(arr2))"
      ]
    },
    {
      "cell_type": "code",
      "execution_count": null,
      "id": "b4831afd",
      "metadata": {
        "id": "b4831afd",
        "outputId": "85ee28d4-a668-4b70-b05a-87ab539b42d0"
      },
      "outputs": [
        {
          "name": "stdout",
          "output_type": "stream",
          "text": [
            "[[[1 2 3]\n",
            "  [6 3 4]]\n",
            "\n",
            " [[4 5 6]\n",
            "  [2 4 5]]]\n"
          ]
        }
      ],
      "source": [
        "from numpy import *\n",
        "arr1=array([[1,2,3,6,3,4],\n",
        "           [4,5,6,2,4,5]])\n",
        "arr2=arr1.flatten()\n",
        "arr3=arr2.reshape(2,2,3)\n",
        "print(arr3)"
      ]
    },
    {
      "cell_type": "code",
      "execution_count": null,
      "id": "dbaa2d28",
      "metadata": {
        "id": "dbaa2d28",
        "outputId": "2462a852-f25c-43b4-bb86-b7468bc90bcf"
      },
      "outputs": [
        {
          "name": "stdout",
          "output_type": "stream",
          "text": [
            "[1 4 4]\n",
            "1\n",
            "7\n",
            "[[27 31 25]\n",
            " [50 59 52]\n",
            " [58 68 69]]\n"
          ]
        }
      ],
      "source": [
        "from numpy import *\n",
        "arr1=array([[1,2,3,6],\n",
        "           [4,5,6,2]])\n",
        "m1=matrix('1 2 3; 4 4 5 ;6 7 4')\n",
        "m2=matrix('1 2 3; 4 4 5 ;6 7 4')\n",
        "print(diagonal(m1))\n",
        "print(m1.min())\n",
        "print(m1.max())\n",
        "m3=m1*m2;\n",
        "print(m3)"
      ]
    },
    {
      "cell_type": "code",
      "execution_count": 8,
      "id": "ec546a28",
      "metadata": {
        "colab": {
          "base_uri": "https://localhost:8080/"
        },
        "id": "ec546a28",
        "outputId": "1733c903-42ca-4a97-eebc-e03b2a9a7367"
      },
      "outputs": [
        {
          "output_type": "stream",
          "name": "stdout",
          "text": [
            "5 -1\n"
          ]
        }
      ],
      "source": [
        "def greet():\n",
        "    print(\"hello\")\n",
        "    print(\"What's up\")\n",
        "def add_sub(x,y):\n",
        "    c=x+y\n",
        "    d=x-y\n",
        "    return c,d\n",
        "result1,result2=add_sub(2,3)\n",
        "print(result1,result2)"
      ]
    },
    {
      "cell_type": "code",
      "execution_count": null,
      "id": "be661f13",
      "metadata": {
        "id": "be661f13",
        "outputId": "ade71fa8-35cc-45bd-f935-eefa00b51084"
      },
      "outputs": [
        {
          "name": "stdout",
          "output_type": "stream",
          "text": [
            "2400692116608\n",
            "2400692116608\n",
            "2400692116608\n",
            "x [10, 8, 30]\n",
            "a [10, 8, 30]\n"
          ]
        }
      ],
      "source": [
        "def update(x):\n",
        "    print(id(x))\n",
        "    x[1]=8\n",
        "    print(id(x))\n",
        "    print('x',x)\n",
        "x=[10,20,30]\n",
        "print(id(x))\n",
        "update(x)\n",
        "print('a',x)"
      ]
    },
    {
      "cell_type": "code",
      "execution_count": 9,
      "id": "25d735de",
      "metadata": {
        "colab": {
          "base_uri": "https://localhost:8080/"
        },
        "id": "25d735de",
        "outputId": "fbccc71b-14b5-41ff-fc41-0662be082a44"
      },
      "outputs": [
        {
          "output_type": "stream",
          "name": "stdout",
          "text": [
            "Sam\n",
            "20\n"
          ]
        }
      ],
      "source": [
        "def person(name,age=20):\n",
        "    print(name)\n",
        "    print(age)\n",
        "person('Sam')"
      ]
    },
    {
      "cell_type": "code",
      "execution_count": null,
      "id": "3dd1f3a4",
      "metadata": {
        "id": "3dd1f3a4",
        "outputId": "36f8ea7e-8800-4be3-a3b0-4200da4df3da"
      },
      "outputs": [
        {
          "name": "stdout",
          "output_type": "stream",
          "text": [
            "14\n"
          ]
        }
      ],
      "source": [
        "def sum(*b):\n",
        "    c=0\n",
        "    \n",
        "    for i in b:\n",
        "        c=c+i\n",
        "    print(c)\n",
        "sum(2,3,4,5)"
      ]
    },
    {
      "cell_type": "code",
      "execution_count": 10,
      "id": "94b03294",
      "metadata": {
        "colab": {
          "base_uri": "https://localhost:8080/"
        },
        "id": "94b03294",
        "outputId": "5f62e219-af55-4f2e-a900-3107b5c45fbe"
      },
      "outputs": [
        {
          "output_type": "stream",
          "name": "stdout",
          "text": [
            "devi\n",
            "{'age': 20, 'city': 'shimoga', 'mob': 2334566}\n"
          ]
        }
      ],
      "source": [
        "def person(name,**data):\n",
        "    print(name)\n",
        "    print(data)\n",
        "person('devi',age=20,city='shimoga',mob=2334566)"
      ]
    },
    {
      "cell_type": "code",
      "execution_count": null,
      "id": "3a2216f8",
      "metadata": {
        "id": "3a2216f8",
        "outputId": "4328f0c3-a393-46dd-90b7-3645efe7635e"
      },
      "outputs": [
        {
          "name": "stdout",
          "output_type": "stream",
          "text": [
            "2400692116608\n",
            "in fun 15\n",
            "outside 15\n"
          ]
        }
      ],
      "source": [
        "a=9\n",
        "def something():\n",
        "    global a\n",
        "    a=15\n",
        "    print(id(x))\n",
        "    print('in fun',a)\n",
        "something()\n",
        "print('outside',a)"
      ]
    },
    {
      "cell_type": "code",
      "execution_count": null,
      "id": "1ff24696",
      "metadata": {
        "id": "1ff24696",
        "outputId": "8f07eecc-ae5f-4945-dc0c-324a0849eda8"
      },
      "outputs": [
        {
          "name": "stdout",
          "output_type": "stream",
          "text": [
            "even : 3 and odd :3\n"
          ]
        }
      ],
      "source": [
        "def count(lst):\n",
        "    even=0\n",
        "    odd=0\n",
        "    for i in lst:\n",
        "        if i%2==0:\n",
        "            even+=1\n",
        "            \n",
        "        else:\n",
        "            odd+=1\n",
        "    return even,odd\n",
        "\n",
        "lst=[1,2,3,4,5,6]\n",
        "even,odd=count(lst)\n",
        "print('even : {} and odd :{}'.format(even,odd))"
      ]
    },
    {
      "cell_type": "code",
      "execution_count": null,
      "id": "c8d72650",
      "metadata": {
        "id": "c8d72650",
        "outputId": "d3bf9025-4949-48bf-ce0c-ea003d06c731"
      },
      "outputs": [
        {
          "name": "stdout",
          "output_type": "stream",
          "text": [
            "100\n",
            "hello 1\n",
            "hello 2\n",
            "hello 3\n",
            "hello 4\n",
            "hello 5\n",
            "hello 6\n",
            "hello 7\n",
            "hello 8\n",
            "hello 9\n",
            "hello 10\n",
            "hello 11\n",
            "hello 12\n",
            "hello 13\n",
            "hello 14\n",
            "hello 15\n",
            "hello 16\n",
            "hello 17\n",
            "hello 18\n",
            "hello 19\n",
            "hello 20\n",
            "hello 21\n",
            "hello 22\n",
            "hello 23\n",
            "hello 24\n",
            "hello 25\n",
            "hello 26\n",
            "hello 27\n",
            "hello 28\n",
            "hello 29\n",
            "hello 30\n",
            "hello 31\n",
            "hello 32\n",
            "hello 33\n",
            "hello 34\n",
            "hello 35\n",
            "hello 36\n",
            "hello 37\n",
            "hello 38\n",
            "hello 39\n",
            "hello 40\n",
            "hello 41\n",
            "hello 42\n",
            "hello 43\n",
            "hello 44\n",
            "hello 45\n",
            "hello 46\n",
            "hello 47\n",
            "hello 48\n",
            "hello 49\n",
            "hello 50\n",
            "hello 51\n",
            "hello 52\n",
            "hello 53\n",
            "hello 54\n",
            "hello 55\n",
            "hello 56\n",
            "hello 57\n",
            "hello 58\n",
            "hello 59\n",
            "hello 60\n",
            "hello 61\n",
            "hello 62\n",
            "hello 63\n",
            "hello 64\n",
            "hello 65\n",
            "hello 66\n",
            "hello 67\n",
            "hello 68\n",
            "hello 69\n",
            "Unexpected exception formatting exception. Falling back to standard exception\n"
          ]
        },
        {
          "name": "stderr",
          "output_type": "stream",
          "text": [
            "Traceback (most recent call last):\n",
            "  File \"C:\\Users\\91910\\anaconda3\\lib\\site-packages\\IPython\\core\\interactiveshell.py\", line 3460, in run_code\n",
            "    exec(code_obj, self.user_global_ns, self.user_ns)\n",
            "  File \"C:\\Users\\91910\\AppData\\Local\\Temp\\ipykernel_6456\\910599268.py\", line 10, in <module>\n",
            "    greet()\n",
            "  File \"C:\\Users\\91910\\AppData\\Local\\Temp\\ipykernel_6456\\910599268.py\", line 9, in greet\n",
            "    greet()\n",
            "  File \"C:\\Users\\91910\\AppData\\Local\\Temp\\ipykernel_6456\\910599268.py\", line 9, in greet\n",
            "    greet()\n",
            "  File \"C:\\Users\\91910\\AppData\\Local\\Temp\\ipykernel_6456\\910599268.py\", line 9, in greet\n",
            "    greet()\n",
            "  [Previous line repeated 66 more times]\n",
            "  File \"C:\\Users\\91910\\AppData\\Local\\Temp\\ipykernel_6456\\910599268.py\", line 8, in greet\n",
            "    print(\"hello\",i)\n",
            "  File \"C:\\Users\\91910\\anaconda3\\lib\\site-packages\\ipykernel\\iostream.py\", line 550, in write\n",
            "    is_child = not self._is_master_process()\n",
            "  File \"C:\\Users\\91910\\anaconda3\\lib\\site-packages\\ipykernel\\iostream.py\", line 438, in _is_master_process\n",
            "    return os.getpid() == self._master_pid\n",
            "RecursionError: maximum recursion depth exceeded while calling a Python object\n",
            "\n",
            "During handling of the above exception, another exception occurred:\n",
            "\n",
            "Traceback (most recent call last):\n",
            "  File \"C:\\Users\\91910\\anaconda3\\lib\\site-packages\\pygments\\lexer.py\", line 495, in _process_state\n",
            "    rex = cls._process_regex(tdef[0], rflags, state)\n",
            "  File \"C:\\Users\\91910\\anaconda3\\lib\\site-packages\\pygments\\lexer.py\", line 423, in _process_regex\n",
            "    regex = regex.get()\n",
            "  File \"C:\\Users\\91910\\anaconda3\\lib\\site-packages\\pygments\\lexer.py\", line 411, in get\n",
            "    return regex_opt(self.words, prefix=self.prefix, suffix=self.suffix)\n",
            "  File \"C:\\Users\\91910\\anaconda3\\lib\\site-packages\\pygments\\regexopt.py\", line 91, in regex_opt\n",
            "    return prefix + regex_opt_inner(strings, '(') + suffix\n",
            "  File \"C:\\Users\\91910\\anaconda3\\lib\\site-packages\\pygments\\regexopt.py\", line 77, in regex_opt_inner\n",
            "    '|'.join(regex_opt_inner(list(group[1]), '')\n",
            "  File \"C:\\Users\\91910\\anaconda3\\lib\\site-packages\\pygments\\regexopt.py\", line 77, in <genexpr>\n",
            "    '|'.join(regex_opt_inner(list(group[1]), '')\n",
            "  File \"C:\\Users\\91910\\anaconda3\\lib\\site-packages\\pygments\\regexopt.py\", line 77, in regex_opt_inner\n",
            "    '|'.join(regex_opt_inner(list(group[1]), '')\n",
            "  File \"C:\\Users\\91910\\anaconda3\\lib\\site-packages\\pygments\\regexopt.py\", line 77, in <genexpr>\n",
            "    '|'.join(regex_opt_inner(list(group[1]), '')\n",
            "  File \"C:\\Users\\91910\\anaconda3\\lib\\site-packages\\pygments\\regexopt.py\", line 77, in regex_opt_inner\n",
            "    '|'.join(regex_opt_inner(list(group[1]), '')\n",
            "  File \"C:\\Users\\91910\\anaconda3\\lib\\site-packages\\pygments\\regexopt.py\", line 77, in <genexpr>\n",
            "    '|'.join(regex_opt_inner(list(group[1]), '')\n",
            "  File \"C:\\Users\\91910\\anaconda3\\lib\\site-packages\\pygments\\regexopt.py\", line 77, in regex_opt_inner\n",
            "    '|'.join(regex_opt_inner(list(group[1]), '')\n",
            "  File \"C:\\Users\\91910\\anaconda3\\lib\\site-packages\\pygments\\regexopt.py\", line 77, in <genexpr>\n",
            "    '|'.join(regex_opt_inner(list(group[1]), '')\n",
            "  File \"C:\\Users\\91910\\anaconda3\\lib\\site-packages\\pygments\\regexopt.py\", line 77, in regex_opt_inner\n",
            "    '|'.join(regex_opt_inner(list(group[1]), '')\n",
            "  File \"C:\\Users\\91910\\anaconda3\\lib\\site-packages\\pygments\\regexopt.py\", line 77, in <genexpr>\n",
            "    '|'.join(regex_opt_inner(list(group[1]), '')\n",
            "  File \"C:\\Users\\91910\\anaconda3\\lib\\site-packages\\pygments\\regexopt.py\", line 77, in regex_opt_inner\n",
            "    '|'.join(regex_opt_inner(list(group[1]), '')\n",
            "  File \"C:\\Users\\91910\\anaconda3\\lib\\site-packages\\pygments\\regexopt.py\", line 77, in <genexpr>\n",
            "    '|'.join(regex_opt_inner(list(group[1]), '')\n",
            "  File \"C:\\Users\\91910\\anaconda3\\lib\\site-packages\\pygments\\regexopt.py\", line 77, in regex_opt_inner\n",
            "    '|'.join(regex_opt_inner(list(group[1]), '')\n",
            "  File \"C:\\Users\\91910\\anaconda3\\lib\\site-packages\\pygments\\regexopt.py\", line 77, in <genexpr>\n",
            "    '|'.join(regex_opt_inner(list(group[1]), '')\n",
            "  File \"C:\\Users\\91910\\anaconda3\\lib\\site-packages\\pygments\\regexopt.py\", line 77, in regex_opt_inner\n",
            "    '|'.join(regex_opt_inner(list(group[1]), '')\n",
            "  File \"C:\\Users\\91910\\anaconda3\\lib\\site-packages\\pygments\\regexopt.py\", line 77, in <genexpr>\n",
            "    '|'.join(regex_opt_inner(list(group[1]), '')\n",
            "  File \"C:\\Users\\91910\\anaconda3\\lib\\site-packages\\pygments\\regexopt.py\", line 77, in regex_opt_inner\n",
            "    '|'.join(regex_opt_inner(list(group[1]), '')\n",
            "  File \"C:\\Users\\91910\\anaconda3\\lib\\site-packages\\pygments\\regexopt.py\", line 77, in <genexpr>\n",
            "    '|'.join(regex_opt_inner(list(group[1]), '')\n",
            "  File \"C:\\Users\\91910\\anaconda3\\lib\\site-packages\\pygments\\regexopt.py\", line 77, in regex_opt_inner\n",
            "    '|'.join(regex_opt_inner(list(group[1]), '')\n",
            "  File \"C:\\Users\\91910\\anaconda3\\lib\\site-packages\\pygments\\regexopt.py\", line 77, in <genexpr>\n",
            "    '|'.join(regex_opt_inner(list(group[1]), '')\n",
            "  File \"C:\\Users\\91910\\anaconda3\\lib\\site-packages\\pygments\\regexopt.py\", line 77, in regex_opt_inner\n",
            "    '|'.join(regex_opt_inner(list(group[1]), '')\n",
            "  File \"C:\\Users\\91910\\anaconda3\\lib\\site-packages\\pygments\\regexopt.py\", line 77, in <genexpr>\n",
            "    '|'.join(regex_opt_inner(list(group[1]), '')\n",
            "  File \"C:\\Users\\91910\\anaconda3\\lib\\site-packages\\pygments\\regexopt.py\", line 77, in regex_opt_inner\n",
            "    '|'.join(regex_opt_inner(list(group[1]), '')\n",
            "  File \"C:\\Users\\91910\\anaconda3\\lib\\site-packages\\pygments\\regexopt.py\", line 77, in <genexpr>\n",
            "    '|'.join(regex_opt_inner(list(group[1]), '')\n",
            "  File \"C:\\Users\\91910\\anaconda3\\lib\\site-packages\\pygments\\regexopt.py\", line 77, in regex_opt_inner\n",
            "    '|'.join(regex_opt_inner(list(group[1]), '')\n",
            "  File \"C:\\Users\\91910\\anaconda3\\lib\\site-packages\\pygments\\regexopt.py\", line 77, in <genexpr>\n",
            "    '|'.join(regex_opt_inner(list(group[1]), '')\n",
            "  File \"C:\\Users\\91910\\anaconda3\\lib\\site-packages\\pygments\\regexopt.py\", line 77, in regex_opt_inner\n",
            "    '|'.join(regex_opt_inner(list(group[1]), '')\n",
            "  File \"C:\\Users\\91910\\anaconda3\\lib\\site-packages\\pygments\\regexopt.py\", line 77, in <genexpr>\n",
            "    '|'.join(regex_opt_inner(list(group[1]), '')\n",
            "  File \"C:\\Users\\91910\\anaconda3\\lib\\site-packages\\pygments\\regexopt.py\", line 63, in regex_opt_inner\n",
            "    + regex_opt_inner([s[plen:] for s in strings], '(?:') \\\n",
            "  File \"C:\\Users\\91910\\anaconda3\\lib\\site-packages\\pygments\\regexopt.py\", line 77, in regex_opt_inner\n",
            "    '|'.join(regex_opt_inner(list(group[1]), '')\n",
            "  File \"C:\\Users\\91910\\anaconda3\\lib\\site-packages\\pygments\\regexopt.py\", line 77, in <genexpr>\n",
            "    '|'.join(regex_opt_inner(list(group[1]), '')\n",
            "  File \"C:\\Users\\91910\\anaconda3\\lib\\site-packages\\pygments\\regexopt.py\", line 77, in regex_opt_inner\n",
            "    '|'.join(regex_opt_inner(list(group[1]), '')\n",
            "  File \"C:\\Users\\91910\\anaconda3\\lib\\site-packages\\pygments\\regexopt.py\", line 77, in <genexpr>\n",
            "    '|'.join(regex_opt_inner(list(group[1]), '')\n",
            "  File \"C:\\Users\\91910\\anaconda3\\lib\\site-packages\\pygments\\regexopt.py\", line 77, in regex_opt_inner\n",
            "    '|'.join(regex_opt_inner(list(group[1]), '')\n",
            "  File \"C:\\Users\\91910\\anaconda3\\lib\\site-packages\\pygments\\regexopt.py\", line 77, in <genexpr>\n",
            "    '|'.join(regex_opt_inner(list(group[1]), '')\n",
            "  File \"C:\\Users\\91910\\anaconda3\\lib\\site-packages\\pygments\\regexopt.py\", line 36, in regex_opt_inner\n",
            "    return open_paren + escape(first) + close_paren\n",
            "  File \"C:\\Users\\91910\\anaconda3\\lib\\re.py\", line 274, in escape\n",
            "    return pattern.translate(_special_chars_map)\n",
            "RecursionError: maximum recursion depth exceeded while calling a Python object\n",
            "\n",
            "The above exception was the direct cause of the following exception:\n",
            "\n",
            "Traceback (most recent call last):\n",
            "  File \"C:\\Users\\91910\\anaconda3\\lib\\site-packages\\IPython\\core\\interactiveshell.py\", line 2057, in showtraceback\n",
            "    stb = self.InteractiveTB.structured_traceback(\n",
            "  File \"C:\\Users\\91910\\anaconda3\\lib\\site-packages\\IPython\\core\\ultratb.py\", line 1118, in structured_traceback\n",
            "    return FormattedTB.structured_traceback(\n",
            "  File \"C:\\Users\\91910\\anaconda3\\lib\\site-packages\\IPython\\core\\ultratb.py\", line 1012, in structured_traceback\n",
            "    return VerboseTB.structured_traceback(\n",
            "  File \"C:\\Users\\91910\\anaconda3\\lib\\site-packages\\IPython\\core\\ultratb.py\", line 865, in structured_traceback\n",
            "    formatted_exception = self.format_exception_as_a_whole(etype, evalue, etb, number_of_lines_of_context,\n",
            "  File \"C:\\Users\\91910\\anaconda3\\lib\\site-packages\\IPython\\core\\ultratb.py\", line 818, in format_exception_as_a_whole\n",
            "    frames.append(self.format_record(r))\n",
            "  File \"C:\\Users\\91910\\anaconda3\\lib\\site-packages\\IPython\\core\\ultratb.py\", line 736, in format_record\n",
            "    result += ''.join(_format_traceback_lines(frame_info.lines, Colors, self.has_colors, lvals))\n",
            "  File \"C:\\Users\\91910\\anaconda3\\lib\\site-packages\\IPython\\core\\ultratb.py\", line 155, in _format_traceback_lines\n",
            "    line = stack_line.render(pygmented=has_colors).rstrip('\\n') + '\\n'\n",
            "  File \"C:\\Users\\91910\\anaconda3\\lib\\site-packages\\stack_data\\core.py\", line 360, in render\n",
            "    start_line, lines = self.frame_info._pygmented_scope_lines\n",
            "  File \"C:\\Users\\91910\\anaconda3\\lib\\site-packages\\stack_data\\utils.py\", line 145, in cached_property_wrapper\n",
            "    value = obj.__dict__[self.func.__name__] = self.func(obj)\n",
            "  File \"C:\\Users\\91910\\anaconda3\\lib\\site-packages\\stack_data\\core.py\", line 780, in _pygmented_scope_lines\n",
            "    lines = _pygmented_with_ranges(formatter, code, ranges)\n",
            "  File \"C:\\Users\\91910\\anaconda3\\lib\\site-packages\\stack_data\\utils.py\", line 164, in _pygmented_with_ranges\n",
            "    lexer = MyLexer(stripnl=False)\n",
            "  File \"C:\\Users\\91910\\anaconda3\\lib\\site-packages\\pygments\\lexer.py\", line 577, in __call__\n",
            "    cls._tokens = cls.process_tokendef('', cls.get_tokendefs())\n",
            "  File \"C:\\Users\\91910\\anaconda3\\lib\\site-packages\\pygments\\lexer.py\", line 516, in process_tokendef\n",
            "    cls._process_state(tokendefs, processed, state)\n",
            "  File \"C:\\Users\\91910\\anaconda3\\lib\\site-packages\\pygments\\lexer.py\", line 479, in _process_state\n",
            "    tokens.extend(cls._process_state(unprocessed, processed,\n",
            "  File \"C:\\Users\\91910\\anaconda3\\lib\\site-packages\\pygments\\lexer.py\", line 479, in _process_state\n",
            "    tokens.extend(cls._process_state(unprocessed, processed,\n",
            "  File \"C:\\Users\\91910\\anaconda3\\lib\\site-packages\\pygments\\lexer.py\", line 497, in _process_state\n",
            "    raise ValueError(\"uncompilable regex %r in state %r of %r: %s\" %\n",
            "ValueError: uncompilable regex <pygments.lexer.words object at 0x0000022EF09847C0> in state 'builtins' of <class 'stack_data.utils._pygmented_with_ranges.<locals>.MyLexer'>: maximum recursion depth exceeded while calling a Python object\n"
          ]
        }
      ],
      "source": [
        "import sys\n",
        "sys.setrecursionlimit(100)\n",
        "print(sys.getrecursionlimit())\n",
        "i=0\n",
        "def greet():\n",
        "    global i\n",
        "    i+=1\n",
        "    print(\"hello\",i)\n",
        "    greet()\n",
        "greet()"
      ]
    },
    {
      "cell_type": "code",
      "execution_count": null,
      "id": "1e04cba5",
      "metadata": {
        "id": "1e04cba5",
        "outputId": "36609f10-5400-44ed-c6ff-e58b399f3427"
      },
      "outputs": [
        {
          "name": "stdout",
          "output_type": "stream",
          "text": [
            "11\n"
          ]
        }
      ],
      "source": [
        "f=lambda a,b:a+b\n",
        "result=f(5,6)\n",
        "print(result)"
      ]
    },
    {
      "cell_type": "code",
      "execution_count": null,
      "id": "71dd8f50",
      "metadata": {
        "id": "71dd8f50",
        "outputId": "12b83099-fb26-40f9-82b4-1a1ea55a1119"
      },
      "outputs": [
        {
          "name": "stdout",
          "output_type": "stream",
          "text": [
            "[4, 8, 12]\n"
          ]
        }
      ],
      "source": [
        "nums=[1,2,3,4,5,6,7]\n",
        "evens=list(filter(lambda n:n%2==0,nums))\n",
        "doubles=list(map(lambda n: n*2,evens))\n",
        "print(doubles)"
      ]
    },
    {
      "cell_type": "code",
      "execution_count": null,
      "id": "6516b898",
      "metadata": {
        "id": "6516b898",
        "outputId": "19348bd0-9f43-4aaf-8042-1d4bb7efd1c2"
      },
      "outputs": [
        {
          "name": "stdout",
          "output_type": "stream",
          "text": [
            "2.0\n"
          ]
        }
      ],
      "source": [
        "def div(a,b):\n",
        "    print(a/b)\n",
        "def smart_div(func):\n",
        "    def inner(a,b):\n",
        "        if a<b:\n",
        "            a,b=b,a\n",
        "        return func(a,b)\n",
        "    return inner\n",
        "div=smart_div(div)\n",
        "div(2,4)"
      ]
    },
    {
      "cell_type": "code",
      "execution_count": null,
      "id": "2ef85de8",
      "metadata": {
        "id": "2ef85de8",
        "outputId": "49682db8-9329-4a26-8a7f-3a50674dc423"
      },
      "outputs": [
        {
          "name": "stdout",
          "output_type": "stream",
          "text": [
            "<class 'int'>\n",
            "<class 'str'>\n",
            "<class '__main__.converter'>\n"
          ]
        }
      ],
      "source": [
        "class converter:\n",
        "    def config(self):\n",
        "        print(\"i5,16gb,1tb\")\n",
        "x=5\n",
        "print(type(x))\n",
        "a='g'\n",
        "print(type(a))\n",
        "com1=converter()\n",
        "print(type(com1))"
      ]
    },
    {
      "cell_type": "code",
      "execution_count": null,
      "id": "b13492f7",
      "metadata": {
        "id": "b13492f7",
        "outputId": "5f726861-6d4b-48d3-8a05-e5d547b85a11"
      },
      "outputs": [
        {
          "name": "stdout",
          "output_type": "stream",
          "text": [
            "i5,16gb,1tb\n",
            "i5,16gb,1tb\n",
            "i5,16gb,1tb\n",
            "i5,16gb,1tb\n"
          ]
        }
      ],
      "source": [
        "class computer:\n",
        "    def config(self):\n",
        "        print(\"i5,16gb,1tb\")\n",
        "com1=computer()\n",
        "com2=converter()\n",
        "computer.config(com1)\n",
        "computer.config(com2)\n",
        "com1.config()\n",
        "com2.config()"
      ]
    },
    {
      "cell_type": "code",
      "execution_count": 11,
      "id": "510af64e",
      "metadata": {
        "colab": {
          "base_uri": "https://localhost:8080/"
        },
        "id": "510af64e",
        "outputId": "4c4c6fac-fb49-4cda-97ad-6ca3e7e2d5e5"
      },
      "outputs": [
        {
          "output_type": "stream",
          "name": "stdout",
          "text": [
            "Pru\n",
            "30\n"
          ]
        }
      ],
      "source": [
        "class computer:\n",
        "    def init(self):\n",
        "        self.name=\"Samartha\"\n",
        "        self.age=19\n",
        "    def update(self):\n",
        "        self.age=30\n",
        "c1=computer()\n",
        "c2=computer()\n",
        "c1.name=\"Pru\"\n",
        "c1.age=12\n",
        "c1.update()\n",
        "print(c1.name)\n",
        "print(c1.age)"
      ]
    },
    {
      "cell_type": "code",
      "execution_count": 12,
      "id": "7161ef40",
      "metadata": {
        "colab": {
          "base_uri": "https://localhost:8080/"
        },
        "id": "7161ef40",
        "outputId": "c3090cab-7c9c-44ce-e6ea-da9267759f92"
      },
      "outputs": [
        {
          "output_type": "stream",
          "name": "stdout",
          "text": [
            "5\n"
          ]
        }
      ],
      "source": [
        "class car:\n",
        "    def init(self):\n",
        "        self.mil=10\n",
        "        self.com=\"Audi\"\n",
        "c1=car()\n",
        "c2=car()\n",
        "c1.mil=5\n",
        "print(c1.mil)"
      ]
    },
    {
      "cell_type": "code",
      "execution_count": null,
      "id": "650dfb37",
      "metadata": {
        "id": "650dfb37",
        "outputId": "3f6cf8c5-609e-450b-e54c-65542a780ec3"
      },
      "outputs": [
        {
          "name": "stdout",
          "output_type": "stream",
          "text": [
            "Unexpected exception formatting exception. Falling back to standard exception\n"
          ]
        },
        {
          "name": "stderr",
          "output_type": "stream",
          "text": [
            "Traceback (most recent call last):\n",
            "  File \"C:\\Users\\91910\\anaconda3\\lib\\site-packages\\IPython\\core\\interactiveshell.py\", line 3460, in run_code\n",
            "    exec(code_obj, self.user_global_ns, self.user_ns)\n",
            "  File \"C:\\Users\\91910\\AppData\\Local\\Temp\\ipykernel_6456\\1985462399.py\", line 15, in <module>\n",
            "    s1=student(35,36,38)\n",
            "TypeError: student() takes no arguments\n",
            "\n",
            "During handling of the above exception, another exception occurred:\n",
            "\n",
            "Traceback (most recent call last):\n",
            "  File \"C:\\Users\\91910\\anaconda3\\lib\\site-packages\\pygments\\lexer.py\", line 495, in _process_state\n",
            "    rex = cls._process_regex(tdef[0], rflags, state)\n",
            "  File \"C:\\Users\\91910\\anaconda3\\lib\\site-packages\\pygments\\lexer.py\", line 423, in _process_regex\n",
            "    regex = regex.get()\n",
            "  File \"C:\\Users\\91910\\anaconda3\\lib\\site-packages\\pygments\\lexer.py\", line 411, in get\n",
            "    return regex_opt(self.words, prefix=self.prefix, suffix=self.suffix)\n",
            "  File \"C:\\Users\\91910\\anaconda3\\lib\\site-packages\\pygments\\regexopt.py\", line 91, in regex_opt\n",
            "    return prefix + regex_opt_inner(strings, '(') + suffix\n",
            "  File \"C:\\Users\\91910\\anaconda3\\lib\\site-packages\\pygments\\regexopt.py\", line 77, in regex_opt_inner\n",
            "    '|'.join(regex_opt_inner(list(group[1]), '')\n",
            "  File \"C:\\Users\\91910\\anaconda3\\lib\\site-packages\\pygments\\regexopt.py\", line 77, in <genexpr>\n",
            "    '|'.join(regex_opt_inner(list(group[1]), '')\n",
            "  File \"C:\\Users\\91910\\anaconda3\\lib\\site-packages\\pygments\\regexopt.py\", line 77, in regex_opt_inner\n",
            "    '|'.join(regex_opt_inner(list(group[1]), '')\n",
            "  File \"C:\\Users\\91910\\anaconda3\\lib\\site-packages\\pygments\\regexopt.py\", line 77, in <genexpr>\n",
            "    '|'.join(regex_opt_inner(list(group[1]), '')\n",
            "  File \"C:\\Users\\91910\\anaconda3\\lib\\site-packages\\pygments\\regexopt.py\", line 77, in regex_opt_inner\n",
            "    '|'.join(regex_opt_inner(list(group[1]), '')\n",
            "  File \"C:\\Users\\91910\\anaconda3\\lib\\site-packages\\pygments\\regexopt.py\", line 77, in <genexpr>\n",
            "    '|'.join(regex_opt_inner(list(group[1]), '')\n",
            "  File \"C:\\Users\\91910\\anaconda3\\lib\\site-packages\\pygments\\regexopt.py\", line 77, in regex_opt_inner\n",
            "    '|'.join(regex_opt_inner(list(group[1]), '')\n",
            "  File \"C:\\Users\\91910\\anaconda3\\lib\\site-packages\\pygments\\regexopt.py\", line 77, in <genexpr>\n",
            "    '|'.join(regex_opt_inner(list(group[1]), '')\n",
            "  File \"C:\\Users\\91910\\anaconda3\\lib\\site-packages\\pygments\\regexopt.py\", line 77, in regex_opt_inner\n",
            "    '|'.join(regex_opt_inner(list(group[1]), '')\n",
            "  File \"C:\\Users\\91910\\anaconda3\\lib\\site-packages\\pygments\\regexopt.py\", line 77, in <genexpr>\n",
            "    '|'.join(regex_opt_inner(list(group[1]), '')\n",
            "  File \"C:\\Users\\91910\\anaconda3\\lib\\site-packages\\pygments\\regexopt.py\", line 77, in regex_opt_inner\n",
            "    '|'.join(regex_opt_inner(list(group[1]), '')\n",
            "  File \"C:\\Users\\91910\\anaconda3\\lib\\site-packages\\pygments\\regexopt.py\", line 77, in <genexpr>\n",
            "    '|'.join(regex_opt_inner(list(group[1]), '')\n",
            "  File \"C:\\Users\\91910\\anaconda3\\lib\\site-packages\\pygments\\regexopt.py\", line 77, in regex_opt_inner\n",
            "    '|'.join(regex_opt_inner(list(group[1]), '')\n",
            "  File \"C:\\Users\\91910\\anaconda3\\lib\\site-packages\\pygments\\regexopt.py\", line 77, in <genexpr>\n",
            "    '|'.join(regex_opt_inner(list(group[1]), '')\n",
            "  File \"C:\\Users\\91910\\anaconda3\\lib\\site-packages\\pygments\\regexopt.py\", line 77, in regex_opt_inner\n",
            "    '|'.join(regex_opt_inner(list(group[1]), '')\n",
            "  File \"C:\\Users\\91910\\anaconda3\\lib\\site-packages\\pygments\\regexopt.py\", line 77, in <genexpr>\n",
            "    '|'.join(regex_opt_inner(list(group[1]), '')\n",
            "  File \"C:\\Users\\91910\\anaconda3\\lib\\site-packages\\pygments\\regexopt.py\", line 77, in regex_opt_inner\n",
            "    '|'.join(regex_opt_inner(list(group[1]), '')\n",
            "  File \"C:\\Users\\91910\\anaconda3\\lib\\site-packages\\pygments\\regexopt.py\", line 77, in <genexpr>\n",
            "    '|'.join(regex_opt_inner(list(group[1]), '')\n",
            "  File \"C:\\Users\\91910\\anaconda3\\lib\\site-packages\\pygments\\regexopt.py\", line 77, in regex_opt_inner\n",
            "    '|'.join(regex_opt_inner(list(group[1]), '')\n",
            "  File \"C:\\Users\\91910\\anaconda3\\lib\\site-packages\\pygments\\regexopt.py\", line 77, in <genexpr>\n",
            "    '|'.join(regex_opt_inner(list(group[1]), '')\n",
            "  File \"C:\\Users\\91910\\anaconda3\\lib\\site-packages\\pygments\\regexopt.py\", line 77, in regex_opt_inner\n",
            "    '|'.join(regex_opt_inner(list(group[1]), '')\n",
            "  File \"C:\\Users\\91910\\anaconda3\\lib\\site-packages\\pygments\\regexopt.py\", line 77, in <genexpr>\n",
            "    '|'.join(regex_opt_inner(list(group[1]), '')\n",
            "  File \"C:\\Users\\91910\\anaconda3\\lib\\site-packages\\pygments\\regexopt.py\", line 77, in regex_opt_inner\n",
            "    '|'.join(regex_opt_inner(list(group[1]), '')\n",
            "  File \"C:\\Users\\91910\\anaconda3\\lib\\site-packages\\pygments\\regexopt.py\", line 77, in <genexpr>\n",
            "    '|'.join(regex_opt_inner(list(group[1]), '')\n",
            "  File \"C:\\Users\\91910\\anaconda3\\lib\\site-packages\\pygments\\regexopt.py\", line 77, in regex_opt_inner\n",
            "    '|'.join(regex_opt_inner(list(group[1]), '')\n",
            "  File \"C:\\Users\\91910\\anaconda3\\lib\\site-packages\\pygments\\regexopt.py\", line 77, in <genexpr>\n",
            "    '|'.join(regex_opt_inner(list(group[1]), '')\n",
            "  File \"C:\\Users\\91910\\anaconda3\\lib\\site-packages\\pygments\\regexopt.py\", line 77, in regex_opt_inner\n",
            "    '|'.join(regex_opt_inner(list(group[1]), '')\n",
            "  File \"C:\\Users\\91910\\anaconda3\\lib\\site-packages\\pygments\\regexopt.py\", line 77, in <genexpr>\n",
            "    '|'.join(regex_opt_inner(list(group[1]), '')\n",
            "  File \"C:\\Users\\91910\\anaconda3\\lib\\site-packages\\pygments\\regexopt.py\", line 63, in regex_opt_inner\n",
            "    + regex_opt_inner([s[plen:] for s in strings], '(?:') \\\n",
            "  File \"C:\\Users\\91910\\anaconda3\\lib\\site-packages\\pygments\\regexopt.py\", line 77, in regex_opt_inner\n",
            "    '|'.join(regex_opt_inner(list(group[1]), '')\n",
            "  File \"C:\\Users\\91910\\anaconda3\\lib\\site-packages\\pygments\\regexopt.py\", line 77, in <genexpr>\n",
            "    '|'.join(regex_opt_inner(list(group[1]), '')\n",
            "  File \"C:\\Users\\91910\\anaconda3\\lib\\site-packages\\pygments\\regexopt.py\", line 77, in regex_opt_inner\n",
            "    '|'.join(regex_opt_inner(list(group[1]), '')\n",
            "  File \"C:\\Users\\91910\\anaconda3\\lib\\site-packages\\pygments\\regexopt.py\", line 77, in <genexpr>\n",
            "    '|'.join(regex_opt_inner(list(group[1]), '')\n",
            "  File \"C:\\Users\\91910\\anaconda3\\lib\\site-packages\\pygments\\regexopt.py\", line 77, in regex_opt_inner\n",
            "    '|'.join(regex_opt_inner(list(group[1]), '')\n",
            "  File \"C:\\Users\\91910\\anaconda3\\lib\\site-packages\\pygments\\regexopt.py\", line 77, in <genexpr>\n",
            "    '|'.join(regex_opt_inner(list(group[1]), '')\n",
            "  File \"C:\\Users\\91910\\anaconda3\\lib\\site-packages\\pygments\\regexopt.py\", line 36, in regex_opt_inner\n",
            "    return open_paren + escape(first) + close_paren\n",
            "  File \"C:\\Users\\91910\\anaconda3\\lib\\re.py\", line 274, in escape\n",
            "    return pattern.translate(_special_chars_map)\n",
            "RecursionError: maximum recursion depth exceeded while calling a Python object\n",
            "\n",
            "The above exception was the direct cause of the following exception:\n",
            "\n",
            "Traceback (most recent call last):\n",
            "  File \"C:\\Users\\91910\\anaconda3\\lib\\site-packages\\IPython\\core\\interactiveshell.py\", line 2057, in showtraceback\n",
            "    stb = self.InteractiveTB.structured_traceback(\n",
            "  File \"C:\\Users\\91910\\anaconda3\\lib\\site-packages\\IPython\\core\\ultratb.py\", line 1118, in structured_traceback\n",
            "    return FormattedTB.structured_traceback(\n",
            "  File \"C:\\Users\\91910\\anaconda3\\lib\\site-packages\\IPython\\core\\ultratb.py\", line 1012, in structured_traceback\n",
            "    return VerboseTB.structured_traceback(\n",
            "  File \"C:\\Users\\91910\\anaconda3\\lib\\site-packages\\IPython\\core\\ultratb.py\", line 865, in structured_traceback\n",
            "    formatted_exception = self.format_exception_as_a_whole(etype, evalue, etb, number_of_lines_of_context,\n",
            "  File \"C:\\Users\\91910\\anaconda3\\lib\\site-packages\\IPython\\core\\ultratb.py\", line 818, in format_exception_as_a_whole\n",
            "    frames.append(self.format_record(r))\n",
            "  File \"C:\\Users\\91910\\anaconda3\\lib\\site-packages\\IPython\\core\\ultratb.py\", line 736, in format_record\n",
            "    result += ''.join(_format_traceback_lines(frame_info.lines, Colors, self.has_colors, lvals))\n",
            "  File \"C:\\Users\\91910\\anaconda3\\lib\\site-packages\\IPython\\core\\ultratb.py\", line 155, in _format_traceback_lines\n",
            "    line = stack_line.render(pygmented=has_colors).rstrip('\\n') + '\\n'\n",
            "  File \"C:\\Users\\91910\\anaconda3\\lib\\site-packages\\stack_data\\core.py\", line 360, in render\n",
            "    start_line, lines = self.frame_info._pygmented_scope_lines\n",
            "  File \"C:\\Users\\91910\\anaconda3\\lib\\site-packages\\stack_data\\utils.py\", line 145, in cached_property_wrapper\n",
            "    value = obj.__dict__[self.func.__name__] = self.func(obj)\n",
            "  File \"C:\\Users\\91910\\anaconda3\\lib\\site-packages\\stack_data\\core.py\", line 780, in _pygmented_scope_lines\n",
            "    lines = _pygmented_with_ranges(formatter, code, ranges)\n",
            "  File \"C:\\Users\\91910\\anaconda3\\lib\\site-packages\\stack_data\\utils.py\", line 164, in _pygmented_with_ranges\n",
            "    lexer = MyLexer(stripnl=False)\n",
            "  File \"C:\\Users\\91910\\anaconda3\\lib\\site-packages\\pygments\\lexer.py\", line 577, in __call__\n",
            "    cls._tokens = cls.process_tokendef('', cls.get_tokendefs())\n",
            "  File \"C:\\Users\\91910\\anaconda3\\lib\\site-packages\\pygments\\lexer.py\", line 516, in process_tokendef\n",
            "    cls._process_state(tokendefs, processed, state)\n",
            "  File \"C:\\Users\\91910\\anaconda3\\lib\\site-packages\\pygments\\lexer.py\", line 479, in _process_state\n",
            "    tokens.extend(cls._process_state(unprocessed, processed,\n",
            "  File \"C:\\Users\\91910\\anaconda3\\lib\\site-packages\\pygments\\lexer.py\", line 479, in _process_state\n",
            "    tokens.extend(cls._process_state(unprocessed, processed,\n",
            "  File \"C:\\Users\\91910\\anaconda3\\lib\\site-packages\\pygments\\lexer.py\", line 497, in _process_state\n",
            "    raise ValueError(\"uncompilable regex %r in state %r of %r: %s\" %\n",
            "ValueError: uncompilable regex <pygments.lexer.words object at 0x0000022EF09847C0> in state 'builtins' of <class 'stack_data.utils._pygmented_with_ranges.<locals>.MyLexer'>: maximum recursion depth exceeded while calling a Python object\n"
          ]
        }
      ],
      "source": [
        "class student:\n",
        "    student='evaluate'\n",
        "    def init(self,n1,n2,n3):\n",
        "        self.n1=n1\n",
        "        self.n2=n2\n",
        "        self.n3=n3\n",
        "    def avg(self):\n",
        "        return(self.n1+self.n2+self.n3)/3\n",
        "    classmethod\n",
        "    def getschool(cls):\n",
        "        return cls.school\n",
        "    staticmethod\n",
        "    def info():\n",
        "        print('this student cls in abc module' )\n",
        "s1=student(35,36,38)\n",
        "s2=student(35,36,38)\n",
        "print(s1.avg)\n",
        "print(student.getschool)\n",
        "student.info()"
      ]
    },
    {
      "cell_type": "code",
      "execution_count": null,
      "id": "d173d04f",
      "metadata": {
        "id": "d173d04f",
        "outputId": "4cd5dbbe-6a00-4aa8-d1fd-85beb4334d60"
      },
      "outputs": [
        {
          "name": "stdout",
          "output_type": "stream",
          "text": [
            "feature 1 working\n",
            "feature 2 working\n"
          ]
        }
      ],
      "source": [
        "class A:\n",
        "    def feature1(self):\n",
        "        print(\"feature 1 working\")\n",
        "    def feature2(self):\n",
        "        print(\"feature 2 working\")\n",
        "class B(A):\n",
        "    def feature3(self):\n",
        "        print(\"feature 3 working\")\n",
        "    def feature4(self):\n",
        "        print(\"feature 4 working\")\n",
        "class c(B):\n",
        "     def feature5(self):\n",
        "        print(\"feature 5 working\")\n",
        "a1=A()\n",
        "a1.feature1()\n",
        "a1.feature2()"
      ]
    },
    {
      "cell_type": "code",
      "execution_count": null,
      "id": "46f3b836",
      "metadata": {
        "id": "46f3b836",
        "outputId": "2412afaa-898f-4ceb-f4fa-96ed292ecb69"
      },
      "outputs": [
        {
          "name": "stdout",
          "output_type": "stream",
          "text": [
            "feature 1 working\n"
          ]
        }
      ],
      "source": [
        "class A:\n",
        "    def init(self):\n",
        "        print('in A init')\n",
        "    def feature1(self):\n",
        "        print(\"feature 1 working\")\n",
        "    def feature2(self):\n",
        "        print(\"feature 2 working\")\n",
        "class B(A):\n",
        "    def init(self):\n",
        "        super().init()\n",
        "        print('in B init')\n",
        "    def feature3(self):\n",
        "        print(\"feature 3 working\")\n",
        "    def feature4(self):\n",
        "        print(\"feature 4 working\")\n",
        "\n",
        "a1=A()\n",
        "a1.feature1()"
      ]
    },
    {
      "cell_type": "code",
      "execution_count": null,
      "id": "9b8a2cc6",
      "metadata": {
        "id": "9b8a2cc6",
        "outputId": "dd29027b-534c-414c-e189-7866944fa57f"
      },
      "outputs": [
        {
          "name": "stdout",
          "output_type": "stream",
          "text": [
            "14\n"
          ]
        }
      ],
      "source": [
        "class Student:\n",
        "    def init(self,m1,m2):\n",
        "        self.m1=m1\n",
        "        self.m2=m2\n",
        "    def sum(self,a=None,b=None,c=None):\n",
        "        s=0\n",
        "        if a!=None and b!=None and c!=None:\n",
        "            s=a+b+c\n",
        "        elif a!=None and b!=None:\n",
        "            s=a+b\n",
        "        else: \n",
        "            s=a\n",
        "        return s\n",
        "s1=Student()\n",
        "print(s1.sum(5,9))"
      ]
    },
    {
      "cell_type": "code",
      "execution_count": null,
      "id": "1cf55802",
      "metadata": {
        "id": "1cf55802",
        "outputId": "f3030454-5e85-4f70-8499-0684da088752"
      },
      "outputs": [
        {
          "name": "stdout",
          "output_type": "stream",
          "text": [
            "in B show\n"
          ]
        }
      ],
      "source": [
        "class A:\n",
        "    def show(self):\n",
        "        print(\"in A show\")\n",
        "class B(A):\n",
        "    def show(self):\n",
        "        print(\"in B show\")\n",
        "a1=B()\n",
        "a1.show()"
      ]
    },
    {
      "cell_type": "code",
      "execution_count": null,
      "id": "a76efa2e",
      "metadata": {
        "id": "a76efa2e",
        "outputId": "ef9c6365-4506-4e1b-fb60-2b873ba14652"
      },
      "outputs": [
        {
          "name": "stdout",
          "output_type": "stream",
          "text": [
            "cannot divide by zero division by zero\n",
            "resource closed\n"
          ]
        }
      ],
      "source": [
        "a=2\n",
        "b=0\n",
        "try:\n",
        "    print(a/b)\n",
        "except Exception as e:\n",
        "    print('cannot divide by zero',e)\n",
        "finally:\n",
        "    print('resource closed')"
      ]
    },
    {
      "cell_type": "code",
      "execution_count": 13,
      "id": "0d09132a",
      "metadata": {
        "colab": {
          "base_uri": "https://localhost:8080/"
        },
        "id": "0d09132a",
        "outputId": "e0a90d14-4bf5-46a5-a2b7-e2739462b17c"
      },
      "outputs": [
        {
          "output_type": "stream",
          "name": "stdout",
          "text": [
            "Namaste\n",
            "Hai\n"
          ]
        }
      ],
      "source": [
        "from time import sleep\n",
        "from threading import *\n",
        "class Hello(Thread):\n",
        "    def run(self):\n",
        "        for i in range(5):\n",
        "            print(\"Namaste\")\n",
        "            sleep(1)\n",
        "class Hii(Thread):\n",
        "    def run(self):\n",
        "        for i in range(5):\n",
        "            print('Hai')\n",
        "            sleep(1)\n",
        "t1=Hello()\n",
        "t2=Hii()\n",
        "t1.start()\n",
        "sleep(0.2)\n",
        "t2.start()"
      ]
    },
    {
      "cell_type": "code",
      "execution_count": null,
      "id": "0f09defa",
      "metadata": {
        "id": "0f09defa"
      },
      "outputs": [],
      "source": []
    }
  ],
  "metadata": {
    "kernelspec": {
      "display_name": "Python 3 (ipykernel)",
      "language": "python",
      "name": "python3"
    },
    "language_info": {
      "codemirror_mode": {
        "name": "ipython",
        "version": 3
      },
      "file_extension": ".py",
      "mimetype": "text/x-python",
      "name": "python",
      "nbconvert_exporter": "python",
      "pygments_lexer": "ipython3",
      "version": "3.10.9"
    },
    "colab": {
      "provenance": []
    }
  },
  "nbformat": 4,
  "nbformat_minor": 5
}
{
 "cells": [
  {
   "cell_type": "code",
   "execution_count": null,
   "metadata": {},
   "outputs": [],
   "source": [
    "import keras\n",
    "import numpy as np\n",
    "model = keras.Sequential([keras.layers.Dense(units=1, input_shape=[1])])\n",
    "\n",
    "xs =  np.array([-1.0, 0.0, 1.0, 2.0, 3.0, 4.0], dtype=int)\n",
    "ys =  np.array([-3.0, -1.0, 1.0, 3.0, 5.0, 7.0], dtype=int)\n",
    "\n",
    "\n",
    "model.compile(optimizer='sgd' , loss='mean_squared_error')\n",
    "model.fit(xs, ys , epochs=100)\n",
    "print(model.predict([5]))\n"
   ]
  }
 ],
 "metadata": {
  "kernelspec": {
   "display_name": "Python 3",
   "language": "python",
   "name": "python3"
  },
  "language_info": {
   "codemirror_mode": {
    "name": "ipython",
    "version": 3
   },
   "file_extension": ".py",
   "mimetype": "text/x-python",
   "name": "python",
   "nbconvert_exporter": "python",
   "pygments_lexer": "ipython3",
   "version": "3.9.6"
  },
  "orig_nbformat": 4
 },
 "nbformat": 4,
 "nbformat_minor": 2
}
